{
 "cells": [
  {
   "cell_type": "markdown",
   "metadata": {},
   "source": [
    "## 1. 모듈 추가 및 기본 설정"
   ]
  },
  {
   "cell_type": "code",
   "execution_count": 1,
   "metadata": {},
   "outputs": [],
   "source": [
    "from faker import Faker\n",
    "import random as r \n",
    "import json\n",
    "from collections import OrderedDict\n",
    "import pandas as pd"
   ]
  },
  {
   "cell_type": "code",
   "execution_count": 2,
   "metadata": {},
   "outputs": [],
   "source": [
    "fake = Faker(\"ko_KR\")\n",
    "\"\"\"\n",
    "저장 위치를 추가해주세요.\n",
    "\"\"\"\n",
    "DIR_PATH = '~/'"
   ]
  },
  {
   "cell_type": "markdown",
   "metadata": {},
   "source": [
    "## 2. 데이터 생성 함수 구현"
   ]
  },
  {
   "cell_type": "code",
   "execution_count": 3,
   "metadata": {},
   "outputs": [
    {
     "data": {
      "text/plain": [
       "'01029307587'"
      ]
     },
     "execution_count": 3,
     "metadata": {},
     "output_type": "execute_result"
    }
   ],
   "source": [
    "# 핸드폰 번호 생성 메서드\n",
    "def generate_phone_number():\n",
    "    phone_number = []\n",
    "\n",
    "    for i in range(0, 8): \n",
    "        phone_number.append(r.randint(0, 9)) \n",
    "\n",
    "    return '010' + ''.join(map(str,phone_number))\n",
    "\n",
    "generate_phone_number()\n"
   ]
  },
  {
   "cell_type": "code",
   "execution_count": 4,
   "metadata": {},
   "outputs": [
    {
     "data": {
      "text/plain": [
       "'761205'"
      ]
     },
     "execution_count": 4,
     "metadata": {},
     "output_type": "execute_result"
    }
   ],
   "source": [
    "# 생일 생성 메서드\n",
    "def generate_birth():\n",
    "    origin = fake.date_of_birth(minimum_age=10, maximum_age=80)\n",
    "    return origin.strftime('%y%m%d')\n",
    "\n",
    "generate_birth()"
   ]
  },
  {
   "cell_type": "code",
   "execution_count": 6,
   "metadata": {},
   "outputs": [],
   "source": [
    "# lahn 알고리즘 메서드\n",
    "def luhn_checksum(card_number):\n",
    "    def digits_of(n):\n",
    "        return [int(d) for d in str(n)]\n",
    "    digits = digits_of(card_number)\n",
    "    odd_digits = digits[-1::-2]\n",
    "    even_digits = digits[-2::-2]\n",
    "    checksum = sum(odd_digits)\n",
    "    for d in even_digits:\n",
    "        checksum += sum(digits_of(d*2))\n",
    "    return checksum % 10\n",
    "\n",
    "# 카드 번호 생성 메서드\n",
    "def generate_card_number():\n",
    "    card_number = [r.randint(0, 9) for _ in range(15)]\n",
    "    check_digit = luhn_checksum(int(''.join(map(str, card_number))) * 10)\n",
    "    card_number.append((10 - check_digit) % 10)\n",
    "    return ''.join(map(str, card_number))\n",
    "\n",
    "# 카드 테이블 정보 생성 메서드\n",
    "def generate_credit_card_information():\n",
    "    dict = {}\n",
    "\n",
    "    payment_info = generate_card_number()\n",
    "    security_code = fake.credit_card_security_code()\n",
    "    expire_date = fake.credit_card_expire().split('/')\n",
    "    password = r.randint(10, 99)\n",
    "\n",
    "    dict['payment_info'] = payment_info\n",
    "    \n",
    "    if len(security_code) == 3:\n",
    "        dict['security_code'] = security_code\n",
    "    else:\n",
    "        dict['security_code'] = security_code[:3]\n",
    "\n",
    "    dict['expiration_period'] = ''.join(expire_date)\n",
    "    dict['password'] = password\n",
    "    return dict\n",
    "    "
   ]
  },
  {
   "cell_type": "code",
   "execution_count": 8,
   "metadata": {},
   "outputs": [],
   "source": [
    "# 사용자 정보 생성 메서드\n",
    "def generate_user_table_data():\n",
    "    dict = {}\n",
    "    name = fake.name()\n",
    "    phone_number = generate_phone_number()\n",
    "    birth = generate_birth()\n",
    "\n",
    "    dict['name'] = name\n",
    "    dict['phone_number'] = phone_number\n",
    "    dict['birth'] = birth\n",
    "\n",
    "    return dict"
   ]
  },
  {
   "cell_type": "code",
   "execution_count": 11,
   "metadata": {},
   "outputs": [],
   "source": [
    "# 택시 데이터 생성 메서드\n",
    "def generate_taxi_call_data():\n",
    "    dict = {}\n",
    "    start_point = fake.local_latlng(country_code='KR')[:2]\n",
    "    end_point = fake.local_latlng(country_code='KR')[:2]\n",
    "\n",
    "    start_lat = start_point[0]\n",
    "    start_long = start_point[1]\n",
    "    end_lat = end_point[0]\n",
    "    end_long = end_point[1]\n",
    "\n",
    "    is_premium = r.getrandbits(1)\n",
    "    apx_payment = r.randint(4800, 1_000_000)\n",
    "    call_time = fake.past_datetime().strftime('%Y-%m-%d %H:%M:%S')\n",
    "    user_id = r.randint(1_000_000, 1_001_000)\n",
    "\n",
    "    dict['start_lat'] = start_lat\n",
    "    dict['start_long'] = start_long\n",
    "    dict['end_lat'] = end_lat\n",
    "    dict['end_long'] = end_long\n",
    "    dict['is_premium'] = is_premium\n",
    "    dict['call_time'] = call_time\n",
    "    dict['user_id'] = user_id\n",
    "    return dict"
   ]
  },
  {
   "cell_type": "code",
   "execution_count": 24,
   "metadata": {},
   "outputs": [],
   "source": [
    "# 택시 번호판 생성 메서드\n",
    "def generate_korean_taxi_plate():\n",
    "    regions = [\"서울\", \"부산\", \"대구\", \"인천\", \"광주\", \"대전\", \"울산\", \"세종\", \"경기\", \"강원\", \"충북\", \"충남\", \"전북\", \"전남\", \"경북\", \"경남\", \"제주\"]\n",
    "    two_digit_number = r.randint(10, 99)\n",
    "    korean_chars = [\"아\", \"바\", \"사\", \"자\"]\n",
    "    korean_char = r.choice(korean_chars)\n",
    "    unique_number = r.randint(1, 9999)\n",
    "    unique_number_str = f\"{unique_number:04}\"\n",
    "    region = r.choice(regions)\n",
    "    taxi_plate = f\"{region}{two_digit_number}{korean_char}{unique_number_str}\"\n",
    "    return taxi_plate"
   ]
  },
  {
   "cell_type": "code",
   "execution_count": 7,
   "metadata": {},
   "outputs": [],
   "source": [
    "# CSV 저장 메서드\n",
    "def save_data_to_csv(list, name):\n",
    "    data_frame = pd.DataFrame(list)\n",
    "    data_frame.to_csv(DIR_PATH + name + \".csv\", index=False)"
   ]
  },
  {
   "cell_type": "markdown",
   "metadata": {},
   "source": [
    "## 3. 데이터 생성 절차"
   ]
  },
  {
   "cell_type": "code",
   "execution_count": 9,
   "metadata": {},
   "outputs": [
    {
     "name": "stdout",
     "output_type": "stream",
     "text": [
      "{'name': '윤수빈', 'phone_number': '01019538118', 'birth': '960626'}\n"
     ]
    }
   ],
   "source": [
    "# Generate USER table data once\n",
    "print(generate_user_table_data())"
   ]
  },
  {
   "cell_type": "code",
   "execution_count": 8,
   "metadata": {},
   "outputs": [],
   "source": [
    "# 사용자 테이블 데이터 생성 로직\n",
    "list = []\n",
    "\n",
    "for _ in range(1_000_000, 1_001_000):\n",
    "    user_data = generate_user_table_data()\n",
    "    list.append(temp_dict)\n",
    "\n",
    "user_data = pd.DataFrame(list)\n",
    "user_data.to_csv(DIR_PATH + 'user_table_fake_data.csv', index=False, encoding='utf-8')\n"
   ]
  },
  {
   "cell_type": "code",
   "execution_count": 10,
   "metadata": {},
   "outputs": [
    {
     "data": {
      "text/plain": [
       "{'payment_info': '5756408140393018',\n",
       " 'security_code': '278',\n",
       " 'expiration_period': '0130',\n",
       " 'password': 34}"
      ]
     },
     "execution_count": 10,
     "metadata": {},
     "output_type": "execute_result"
    }
   ],
   "source": [
    "# 카드 정보 생성 로직\n",
    "generate_credit_card_information()"
   ]
  },
  {
   "cell_type": "code",
   "execution_count": 9,
   "metadata": {},
   "outputs": [],
   "source": [
    "# 카드 정보 테이블 데이터 생성 로직\n",
    "list = []\n",
    "\n",
    "for _ in range(1_000_000, 1_001_000):\n",
    "    card_information = generate_credit_card_information()\n",
    "    user_id = r.randint(1_000_000, 1_001_000)\n",
    "    card_information['user_id'] = user_id\n",
    "    list.append(card_information)\n",
    "\n",
    "credit_card_table_data = pd.DataFrame(list)\n",
    "credit_card_table_data.to_csv(DIR_PATH + 'credict_card_table_data.csv', index=False)\n"
   ]
  },
  {
   "cell_type": "code",
   "execution_count": 10,
   "metadata": {},
   "outputs": [],
   "source": [
    "# 배차 콜 테이블 데이터 생성 로직\n",
    "list = []\n",
    "\n",
    "for id in range(1_000):\n",
    "    dict = {}\n",
    "    start_point = fake.local_latlng(country_code='KR')[:2]\n",
    "    end_point = fake.local_latlng(country_code='KR')[:2]\n",
    "\n",
    "    start_lat = start_point[0]\n",
    "    start_long = start_point[1]\n",
    "    end_lat = end_point[0]\n",
    "    end_long = end_point[1]\n",
    "\n",
    "    is_premium = r.getrandbits(1)\n",
    "    apx_payment = r.randint(4800, 1_000_000)\n",
    "    call_time = fake.past_datetime().strftime('%Y-%m-%d %H:%M:%S')\n",
    "    user_id = r.randint(1_000_000, 1_001_000)\n",
    "\n",
    "    dict['start_lat'] = start_lat\n",
    "    dict['start_long'] = start_long\n",
    "    dict['end_lat'] = end_lat\n",
    "    dict['end_long'] = end_long\n",
    "    dict['is_premium'] = is_premium\n",
    "    dict['call_time'] = call_time\n",
    "    dict['user_id'] = user_id\n",
    "\n",
    "    list.append(dict)\n",
    "\n",
    "taxi_call_table_data = pd.DataFrame(list)\n",
    "taxi_call_table_data.to_csv(DIR_PATH + 'taxi_call_table_data.csv', index=False)"
   ]
  },
  {
   "cell_type": "code",
   "execution_count": 12,
   "metadata": {},
   "outputs": [],
   "source": [
    "# 차량 정보 테이블 생성 로직\n",
    "list = []\n",
    "\n",
    "for driver_id in range(1_000):\n",
    "    dict = {}\n",
    "\n",
    "    dict['dirver_id'] = driver_id\n",
    "    dict['car_num'] = generate_korean_taxi_plate()\n",
    "    dict['pay_type'] = r.getrandbits(1)\n",
    "    dict['car_type'] = r.choice(car_type_list)\n",
    "\n",
    "    list.append(dict)\n",
    "\n",
    "save_data_to_csv(list=list, name='car_table_data')\n"
   ]
  },
  {
   "cell_type": "code",
   "execution_count": 37,
   "metadata": {},
   "outputs": [],
   "source": [
    "# 결제 테이블 생성 로직\n",
    "list = []\n",
    "\n",
    "for catch_id in range(1, 1000):\n",
    "    dict = {}\n",
    "\n",
    "    money = r.randint(4800, 100_000)\n",
    "    money_list = [money, None]\n",
    "\n",
    "    payment_result = r.choice(money_list)\n",
    "\n",
    "    dict['catch_id'] = catch_id\n",
    "    dict['card_num'] =  '575640******3018'\n",
    "    dict['payment_result'] = payment_result\n",
    "    dict['payment_time'] = fake.past_datetime().strftime('%Y-%m-%d %H:%M:%S')\n",
    "\n",
    "    list.append(dict)\n",
    "\n",
    "save_data_to_csv(list=list, name='payment_result_table_data')\n",
    "    \n"
   ]
  },
  {
   "cell_type": "code",
   "execution_count": null,
   "metadata": {},
   "outputs": [],
   "source": [
    "# 기사 테이블 생성 로직\n",
    "list = []\n",
    "driver_id_list = []\n",
    "\n",
    "for id in range(1_000):\n",
    "    dict = {}\n",
    "    name = fake.name()\n",
    "    ssn = ''.join(fake.ssn().split(sep=\"-\"))\n",
    "    company = fake.company()\n",
    "    region_list = [fake.city().split(sep=\" \")[0], fake.metropolitan_city()]\n",
    "\n",
    "    dict['dirver_id'] = id\n",
    "    dict['name'] = name\n",
    "    dict['ssn'] = ssn\n",
    "    dict['company'] = company\n",
    "    dict['region'] = r.choice(region_list)\n",
    "\n",
    "    list.append(dict)\n",
    "\n",
    "save_data_to_csv(list=list, name=\"driver_table_data\")\n",
    "\n"
   ]
  },
  {
   "cell_type": "code",
   "execution_count": null,
   "metadata": {},
   "outputs": [],
   "source": [
    "# 배차 catch 테이블 생성 로직\n",
    "list = []\n",
    "\n",
    "for id in range(1, 1_000):\n",
    "    dict = {}\n",
    "\n",
    "    dict[\"catch_id\"] = id\n",
    "    dict[\"call_id\"] = r.randint(a=1, b=1_000)\n",
    "    dict['driver_id'] = r.randint(a=1, b=1_000)\n",
    "    dict['catch_time'] = fake.past_datetime().strftime('%Y-%m-%d %H:%M:%S')\n",
    "    list.append(dict)\n",
    "\n",
    "save_data_to_csv(list=list, name='taxi_catch_table_data')\n"
   ]
  }
 ],
 "metadata": {
  "kernelspec": {
   "display_name": "Python 3 (ipykernel)",
   "language": "python",
   "name": "python3"
  },
  "language_info": {
   "codemirror_mode": {
    "name": "ipython",
    "version": 3
   },
   "file_extension": ".py",
   "mimetype": "text/x-python",
   "name": "python",
   "nbconvert_exporter": "python",
   "pygments_lexer": "ipython3",
   "version": "3.11.7"
  }
 },
 "nbformat": 4,
 "nbformat_minor": 2
}
